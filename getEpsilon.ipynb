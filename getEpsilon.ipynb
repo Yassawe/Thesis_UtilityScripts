{
 "cells": [
  {
   "cell_type": "code",
   "execution_count": 1,
   "metadata": {},
   "outputs": [],
   "source": [
    "import numpy as np\n",
    "import matplotlib.pyplot as plt\n",
    "from matplotlib.ticker import PercentFormatter, FormatStrFormatter\n",
    "import matplotlib.ticker as ticker"
   ]
  },
  {
   "cell_type": "code",
   "execution_count": null,
   "metadata": {},
   "outputs": [],
   "source": [
    "plt.rcParams.update({'font.size': 16})"
   ]
  },
  {
   "cell_type": "code",
   "execution_count": null,
   "metadata": {},
   "outputs": [],
   "source": [
    "def getepsilons(data, percentages=[25,50,75,90, 95]):\n",
    "    data_abs = np.absolute(data)\n",
    "    for p in percentages:\n",
    "        print(\"{}%  = {}\".format(p, np.percentile(data_abs, p)))"
   ]
  },
  {
   "cell_type": "code",
   "execution_count": null,
   "metadata": {},
   "outputs": [],
   "source": [
    "def plotdistro(data1, data2, savepath):\n",
    "    plt.figure(figsize=(10,5), facecolor='white')\n",
    "    \n",
    "    plt.hist(data2, bins=300, range=[-0.02, 0.02], weights=np.ones(len(data2))/len(data2), label=\"10-th iteration\")\n",
    "    plt.hist(data1, bins=300, range=[-0.02, 0.02], weights=np.ones(len(data1))/len(data1), label=\"1000-th iteration\")\n",
    "    plt.ylim(0, 0.5)\n",
    "    #plt.xlim(-0.002, 0.002)\n",
    "    plt.gca().yaxis.set_major_formatter(PercentFormatter(1))\n",
    "    #plt.gca().yaxis.set_major_formatter(FormatStrFormatter('%.2f\\%'))\n",
    "    \n",
    "    plt.xticks([-0.02, -0.01, 0, 0.01, 0.02])\n",
    "    plt.xticks(fontsize=16)\n",
    "    plt.yticks(fontsize=16)\n",
    "    plt.xlabel(\"Gradient Value\", fontsize=16)\n",
    "    plt.ylabel(\"Occurences\", fontsize=16)\n",
    "    plt.legend(fontsize=14)\n",
    "    plt.savefig(savepath, dpi=600, bbox_inches=\"tight\")"
   ]
  },
  {
   "cell_type": "code",
   "execution_count": 2,
   "metadata": {},
   "outputs": [],
   "source": [
    "iter10 = np.loadtxt(\"./grads/BERT_10.txt\")"
   ]
  },
  {
   "cell_type": "code",
   "execution_count": 3,
   "metadata": {},
   "outputs": [],
   "source": [
    "iter1000 = np.loadtxt(\"./grads/BERT_1000.txt\")"
   ]
  },
  {
   "cell_type": "code",
   "execution_count": null,
   "metadata": {},
   "outputs": [],
   "source": []
  }
 ],
 "metadata": {
  "kernelspec": {
   "display_name": "ML_DS",
   "language": "python",
   "name": "python3"
  },
  "language_info": {
   "codemirror_mode": {
    "name": "ipython",
    "version": 3
   },
   "file_extension": ".py",
   "mimetype": "text/x-python",
   "name": "python",
   "nbconvert_exporter": "python",
   "pygments_lexer": "ipython3",
   "version": "3.9.7"
  },
  "orig_nbformat": 4
 },
 "nbformat": 4,
 "nbformat_minor": 2
}
